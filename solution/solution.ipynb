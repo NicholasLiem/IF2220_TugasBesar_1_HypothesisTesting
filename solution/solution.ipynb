{
 "cells": [
  {
   "cell_type": "markdown",
   "id": "1389b108",
   "metadata": {},
   "source": [
    "# Tugas Besar IF2220 Probabilitas dan Statistika - Penarikan Kesimpulan dan Pengujian Hipotesis\n",
    "___\n",
    "### Tujuan Pengerjaan\n",
    "Tujuan pengerjaan tugas ini adalah untuk melakukan analisis statistik terhadap data anggur.csv dan melakukan pengujian hipotesis terhadap data tersebut.\n",
    "\n",
    "### Penulis\n",
    "| Nama                      | NIM      |\n",
    "| :----------------------- | :------- |\n",
    "| Nicholas Liem             | 13521135 |\n",
    "| Nathania Calista Djunaedi | 13521139 |\n",
    "\n",
    "### Dependencies\n",
    "   * testing"
   ]
  },
  {
   "cell_type": "code",
   "execution_count": 1,
   "id": "2dce91a4",
   "metadata": {},
   "outputs": [
    {
     "data": {
      "text/html": [
       "<table class=\"dataframe\">\n",
       "<caption>A data.frame: 6 × 12</caption>\n",
       "<thead>\n",
       "\t<tr><th></th><th scope=col>fixed.acidity</th><th scope=col>volatile.acidity</th><th scope=col>citric.acid</th><th scope=col>residual.sugar</th><th scope=col>chlorides</th><th scope=col>free.sulfur.dioxide</th><th scope=col>total.sulfur.dioxide</th><th scope=col>density</th><th scope=col>pH</th><th scope=col>sulphates</th><th scope=col>alcohol</th><th scope=col>quality</th></tr>\n",
       "\t<tr><th></th><th scope=col>&lt;dbl&gt;</th><th scope=col>&lt;dbl&gt;</th><th scope=col>&lt;dbl&gt;</th><th scope=col>&lt;dbl&gt;</th><th scope=col>&lt;dbl&gt;</th><th scope=col>&lt;dbl&gt;</th><th scope=col>&lt;dbl&gt;</th><th scope=col>&lt;dbl&gt;</th><th scope=col>&lt;dbl&gt;</th><th scope=col>&lt;dbl&gt;</th><th scope=col>&lt;dbl&gt;</th><th scope=col>&lt;int&gt;</th></tr>\n",
       "</thead>\n",
       "<tbody>\n",
       "\t<tr><th scope=row>1</th><td>5.90</td><td>0.4451</td><td>0.1813</td><td>2.049401</td><td>0.07057449</td><td>16.593818</td><td>42.27</td><td>0.9982</td><td>3.27</td><td>0.71</td><td> 8.64</td><td>7</td></tr>\n",
       "\t<tr><th scope=row>2</th><td>8.40</td><td>0.5768</td><td>0.2099</td><td>3.109590</td><td>0.10168145</td><td>22.555519</td><td>16.01</td><td>0.9960</td><td>3.35</td><td>0.57</td><td>10.03</td><td>8</td></tr>\n",
       "\t<tr><th scope=row>3</th><td>7.54</td><td>0.5918</td><td>0.3248</td><td>3.673744</td><td>0.07241553</td><td> 9.316866</td><td>35.52</td><td>0.9990</td><td>3.31</td><td>0.64</td><td> 9.23</td><td>8</td></tr>\n",
       "\t<tr><th scope=row>4</th><td>5.39</td><td>0.4201</td><td>0.3131</td><td>3.371815</td><td>0.07275452</td><td>18.212300</td><td>41.97</td><td>0.9945</td><td>3.34</td><td>0.55</td><td>14.07</td><td>9</td></tr>\n",
       "\t<tr><th scope=row>5</th><td>6.51</td><td>0.5675</td><td>0.1940</td><td>4.404723</td><td>0.06637859</td><td> 9.360591</td><td>46.27</td><td>0.9925</td><td>3.27</td><td>0.45</td><td>11.49</td><td>8</td></tr>\n",
       "\t<tr><th scope=row>6</th><td>9.18</td><td>0.3332</td><td>0.2476</td><td>2.633491</td><td>0.08230416</td><td>12.232170</td><td>51.05</td><td>0.9965</td><td>3.40</td><td>0.63</td><td>10.82</td><td>8</td></tr>\n",
       "</tbody>\n",
       "</table>\n"
      ],
      "text/latex": [
       "A data.frame: 6 × 12\n",
       "\\begin{tabular}{r|llllllllllll}\n",
       "  & fixed.acidity & volatile.acidity & citric.acid & residual.sugar & chlorides & free.sulfur.dioxide & total.sulfur.dioxide & density & pH & sulphates & alcohol & quality\\\\\n",
       "  & <dbl> & <dbl> & <dbl> & <dbl> & <dbl> & <dbl> & <dbl> & <dbl> & <dbl> & <dbl> & <dbl> & <int>\\\\\n",
       "\\hline\n",
       "\t1 & 5.90 & 0.4451 & 0.1813 & 2.049401 & 0.07057449 & 16.593818 & 42.27 & 0.9982 & 3.27 & 0.71 &  8.64 & 7\\\\\n",
       "\t2 & 8.40 & 0.5768 & 0.2099 & 3.109590 & 0.10168145 & 22.555519 & 16.01 & 0.9960 & 3.35 & 0.57 & 10.03 & 8\\\\\n",
       "\t3 & 7.54 & 0.5918 & 0.3248 & 3.673744 & 0.07241553 &  9.316866 & 35.52 & 0.9990 & 3.31 & 0.64 &  9.23 & 8\\\\\n",
       "\t4 & 5.39 & 0.4201 & 0.3131 & 3.371815 & 0.07275452 & 18.212300 & 41.97 & 0.9945 & 3.34 & 0.55 & 14.07 & 9\\\\\n",
       "\t5 & 6.51 & 0.5675 & 0.1940 & 4.404723 & 0.06637859 &  9.360591 & 46.27 & 0.9925 & 3.27 & 0.45 & 11.49 & 8\\\\\n",
       "\t6 & 9.18 & 0.3332 & 0.2476 & 2.633491 & 0.08230416 & 12.232170 & 51.05 & 0.9965 & 3.40 & 0.63 & 10.82 & 8\\\\\n",
       "\\end{tabular}\n"
      ],
      "text/markdown": [
       "\n",
       "A data.frame: 6 × 12\n",
       "\n",
       "| <!--/--> | fixed.acidity &lt;dbl&gt; | volatile.acidity &lt;dbl&gt; | citric.acid &lt;dbl&gt; | residual.sugar &lt;dbl&gt; | chlorides &lt;dbl&gt; | free.sulfur.dioxide &lt;dbl&gt; | total.sulfur.dioxide &lt;dbl&gt; | density &lt;dbl&gt; | pH &lt;dbl&gt; | sulphates &lt;dbl&gt; | alcohol &lt;dbl&gt; | quality &lt;int&gt; |\n",
       "|---|---|---|---|---|---|---|---|---|---|---|---|---|\n",
       "| 1 | 5.90 | 0.4451 | 0.1813 | 2.049401 | 0.07057449 | 16.593818 | 42.27 | 0.9982 | 3.27 | 0.71 |  8.64 | 7 |\n",
       "| 2 | 8.40 | 0.5768 | 0.2099 | 3.109590 | 0.10168145 | 22.555519 | 16.01 | 0.9960 | 3.35 | 0.57 | 10.03 | 8 |\n",
       "| 3 | 7.54 | 0.5918 | 0.3248 | 3.673744 | 0.07241553 |  9.316866 | 35.52 | 0.9990 | 3.31 | 0.64 |  9.23 | 8 |\n",
       "| 4 | 5.39 | 0.4201 | 0.3131 | 3.371815 | 0.07275452 | 18.212300 | 41.97 | 0.9945 | 3.34 | 0.55 | 14.07 | 9 |\n",
       "| 5 | 6.51 | 0.5675 | 0.1940 | 4.404723 | 0.06637859 |  9.360591 | 46.27 | 0.9925 | 3.27 | 0.45 | 11.49 | 8 |\n",
       "| 6 | 9.18 | 0.3332 | 0.2476 | 2.633491 | 0.08230416 | 12.232170 | 51.05 | 0.9965 | 3.40 | 0.63 | 10.82 | 8 |\n",
       "\n"
      ],
      "text/plain": [
       "  fixed.acidity volatile.acidity citric.acid residual.sugar chlorides \n",
       "1 5.90          0.4451           0.1813      2.049401       0.07057449\n",
       "2 8.40          0.5768           0.2099      3.109590       0.10168145\n",
       "3 7.54          0.5918           0.3248      3.673744       0.07241553\n",
       "4 5.39          0.4201           0.3131      3.371815       0.07275452\n",
       "5 6.51          0.5675           0.1940      4.404723       0.06637859\n",
       "6 9.18          0.3332           0.2476      2.633491       0.08230416\n",
       "  free.sulfur.dioxide total.sulfur.dioxide density pH   sulphates alcohol\n",
       "1 16.593818           42.27                0.9982  3.27 0.71       8.64  \n",
       "2 22.555519           16.01                0.9960  3.35 0.57      10.03  \n",
       "3  9.316866           35.52                0.9990  3.31 0.64       9.23  \n",
       "4 18.212300           41.97                0.9945  3.34 0.55      14.07  \n",
       "5  9.360591           46.27                0.9925  3.27 0.45      11.49  \n",
       "6 12.232170           51.05                0.9965  3.40 0.63      10.82  \n",
       "  quality\n",
       "1 7      \n",
       "2 8      \n",
       "3 8      \n",
       "4 9      \n",
       "5 8      \n",
       "6 8      "
      ]
     },
     "metadata": {},
     "output_type": "display_data"
    }
   ],
   "source": [
    "# Gambaran anggur.csv\n",
    "data_anggur <- read.csv(\"../data/anggur.csv\")\n",
    "head(data_anggur)"
   ]
  },
  {
   "cell_type": "markdown",
   "id": "7cd0a230",
   "metadata": {},
   "source": [
    "___\n",
    "## Soal No.1\n",
    "Menulis deskripsi statistika (Descriptive Statistics) dari semua kolom pada data yang bersifat\n",
    "numerik, terdiri dari mean, median, modus, standar deviasi, variansi, range, nilai minimum,\n",
    "maksimum, kuartil, IQR, skewness dan kurtosis."
   ]
  },
  {
   "cell_type": "code",
   "execution_count": 18,
   "id": "a1f032e3",
   "metadata": {},
   "outputs": [
    {
     "name": "stdout",
     "output_type": "stream",
     "text": [
      "         fixed.acidity volatile.acidity citric.acid residual.sugar\n",
      "mean          7.152530      0.520838500  0.27051700     2.56710368\n",
      "median        7.150000      0.524850000  0.27220000     2.51943027\n",
      "mode          6.540000      0.554600000  0.30190000     0.03255453\n",
      "sd            1.201598      0.095848274  0.04909837     0.98791544\n",
      "var           1.443837      0.009186892  0.00241065     0.97597691\n",
      "min           3.320000      0.139900000  0.11670000     0.03255453\n",
      "max          11.490000      0.805100000  0.40960000     5.55075493\n",
      "range         8.170000      0.665200000  0.29290000     5.51820041\n",
      "q1.25%        6.377500      0.456100000  0.23780000     1.89632994\n",
      "q3.75%        8.000000      0.585375000  0.30232500     3.22087348\n",
      "iqr           1.622500      0.129275000  0.06452500     1.32454354\n",
      "skewness     -0.028792     -0.197105998 -0.04543942     0.13224044\n",
      "kurtosis      2.968864      3.148743819  2.88407260     2.94534103\n",
      "             chlorides free.sulfur.dioxide total.sulfur.dioxide       density\n",
      "mean      0.0811951525        14.907679251          40.29015000  9.959253e-01\n",
      "median    0.0821669022        14.860346237          40.19000000  9.960000e-01\n",
      "mode      0.0151224392         0.194678523          35.20000000  9.959000e-01\n",
      "sd        0.0201106472         4.888099706           9.96576738  2.020181e-03\n",
      "var       0.0004044381        23.893518733          99.31651940  4.081131e-06\n",
      "min       0.0151224392         0.194678523           3.15000000  9.888000e-01\n",
      "max       0.1407575694        27.462525424          69.96000000  1.002600e+00\n",
      "range     0.1256351303        27.267846901          66.81000000  1.380000e-02\n",
      "q1.25%    0.0665736319        11.426716949          33.78500000  9.946000e-01\n",
      "q3.75%    0.0953115015        18.313097915          47.02250000  9.972000e-01\n",
      "iqr       0.0287378696         6.886380966          13.23750000  2.600000e-03\n",
      "skewness -0.0511654422         0.007109039          -0.02398789 -7.665229e-02\n",
      "kurtosis  2.7432339658         2.625605518           3.05152427  3.004272e+00\n",
      "                 pH  sulphates     alcohol\n",
      "mean     3.30361000 0.59839000 10.59228000\n",
      "median   3.30000000 0.59500000 10.61000000\n",
      "mode     3.34000000 0.59000000  9.86000000\n",
      "sd       0.10487548 0.10081901  1.51070601\n",
      "var      0.01099887 0.01016447  2.28223263\n",
      "min      2.97000000 0.29000000  6.03000000\n",
      "max      3.71000000 0.96000000 15.02000000\n",
      "range    0.74000000 0.67000000  8.99000000\n",
      "q1.25%   3.23000000 0.53000000  9.56000000\n",
      "q3.75%   3.37000000 0.67000000 11.62250000\n",
      "iqr      0.14000000 0.14000000  2.06250000\n",
      "skewness 0.14722987 0.14875160 -0.01893447\n",
      "kurtosis 3.06836562 3.05238769  2.85720917\n"
     ]
    }
   ],
   "source": [
    "# Soal No.1\n",
    "\n",
    "desc_stats <- sapply(data_anggur[,1:11], function(x) c(\n",
    "  mean = mean(x),\n",
    "  median = median(x),\n",
    "  mode = as.numeric(names(sort(-table(x)))[1]), # Mengambil modus terbanyak\n",
    "  sd = sd(x),\n",
    "  var = var(x),\n",
    "  min = min(x),\n",
    "  max = max(x),\n",
    "  range = max(x) - min(x),\n",
    "  q1 = quantile(x, 0.25),\n",
    "  q3 = quantile(x, 0.75),\n",
    "  iqr = IQR(x),\n",
    "  skewness = sum((x - mean(x))^3) / (length(x) * sd(x)^3), # Menghitung skewness\n",
    "  kurtosis = sum((x - mean(x))^4) / (length(x) * sd(x)^4) # Menghitung kurtosis\n",
    "))\n",
    "\n",
    "# Menampilkan deskripsi statistika\n",
    "print(desc_stats)"
   ]
  },
  {
   "cell_type": "markdown",
   "id": "299b4b4e",
   "metadata": {},
   "source": [
    "___\n",
    "## Soal No.2\n",
    "Membuat visualisasi plot distribusi, dalam bentuk histogram dan boxplot untuk setiap\n",
    "kolom numerik. Berikan uraian penjelasan kondisi setiap kolom berdasarkan kedua plot tersebut."
   ]
  },
  {
   "cell_type": "code",
   "execution_count": 3,
   "id": "16f22dd0",
   "metadata": {},
   "outputs": [
    {
     "data": {
      "image/png": "[encoded data removed]",
      "text/plain": [
       "Plot with title \"free.sulfur.dioxide\""
      ]
     },
     "metadata": {
      "image/png": {
       "height": 420,
       "width": 420
      }
     },
     "output_type": "display_data"
    },
    {
     "data": {
      "image/png": "[encoded data removed]",
      "text/plain": [
       "Plot with title \"alcohol\""
      ]
     },
     "metadata": {
      "image/png": {
       "height": 420,
       "width": 420
      }
     },
     "output_type": "display_data"
    }
   ],
   "source": [
    "# Soal No.2\n",
    "\n",
    "# Membuat visualisasi plot distribusi, dalam bentuk histogram dan boxplot untuk setiap kolom numerik.\n",
    "par(mfrow=c(3, 4))\n",
    "for (i in 1:11) {\n",
    "  hist(data_anggur[,i], main = colnames(data_anggur)[i], xlab = \"\", col = \"dodgerblue\", border = \"white\")\n",
    "  boxplot(data_anggur[,i], main = colnames(data_anggur)[i], col = \"dodgerblue\", border = \"white\", horizontal = TRUE)\n",
    "}"
   ]
  },
  {
   "cell_type": "markdown",
   "id": "5c6d78af",
   "metadata": {},
   "source": [
    "### Penjelasan No.2\n",
    "<!--  ToDo  -->\n",
    "1. Fixed Acidity\n",
    "    * Histogram\n",
    "    * Boxplot"
   ]
  },
  {
   "cell_type": "markdown",
   "id": "f31edbe0",
   "metadata": {},
   "source": [
    "___\n",
    "## Soal No.3\n",
    "Menentukan setiap kolom numerik berdistribusi normal atau tidak. Gunakan normality test yang dikaitkan dengan histogram plot.\n",
    "\n",
    "### Normality Test\n",
    "Normality test merupakan sebuah uji yang digunakan untuk menentukan apakah suatu data berdistribusi normal atau tidak. Ada beberapa metode yang dapat digunakan untuk melakukan normality test, beberapa di antara lainnya adalah\n",
    "   1. Metode visual menggunakan histogram\n",
    "   2. Metode visual menggunakan Q-Q diagram\n",
    "   3. Uji Saphiro-Wilk\n",
    "   4. Uji Kolmogorov-Smirnov Test\n",
    "   \n",
    "Dalam soal ini, kami akan menggunakan tiga dari empat normality test. Normality test yang akan digunakan adalah metode visual menggunakan histogram, Q-Q diagram, dan uji Saphiro-Wilk.\n",
    "\n",
    "### Penjelasan Singkat Metode Uji\n",
    "   1. Metode visual menggunakan histogram\n",
    "       * test\n",
    "   2. Metode visual menggunakan Q-Q diagram\n",
    "       * test\n",
    "   3. Uji Saphiro-Wilk\n",
    "       * test\n",
    "   4. Metode Tambahan (PPT)\n",
    "       * Melalui nilai skewness, jika nilai skewnessnya sekitar 0, maka suatu data berdistribusi dapat disebut normal.\n",
    "       * Melalui nilai kurtosis, jika nilai kurtosisnya sekitar 3, maka suatu data berdistribut dapat disebut normal.\n",
    "\n",
    "Sumber: https://www.statology.org/test-for-normality-in-r/"
   ]
  },
  {
   "cell_type": "markdown",
   "id": "40b94bea",
   "metadata": {},
   "source": [
    "### 1. Metode visual menggunakan histogram"
   ]
  },
  {
   "cell_type": "markdown",
   "id": "94108783",
   "metadata": {},
   "source": [
    "### 2. Metode visual menggunakan Q-Q diagram"
   ]
  },
  {
   "cell_type": "markdown",
   "id": "425ccb5c",
   "metadata": {},
   "source": [
    "### 3. Uji Saphiro-Wilk"
   ]
  },
  {
   "cell_type": "code",
   "execution_count": 24,
   "id": "abe681dc",
   "metadata": {},
   "outputs": [
    {
     "name": "stdout",
     "output_type": "stream",
     "text": [
      "[1] \"fixed.acidity memiliki nilai p:  0.893654329764391 ->  BERDISTRIBUSI NORMAL\"\n",
      "[1] \"volatile.acidity memiliki nilai p:  0.0599136401748108 ->  BERDISTRIBUSI NORMAL\"\n",
      "[1] \"citric.acid memiliki nilai p:  0.26490871156372 ->  BERDISTRIBUSI NORMAL\"\n",
      "[1] \"residual.sugar memiliki nilai p:  0.0450040247047423 ->  TIDAK BERDISTRIBUSI NORMAL\"\n",
      "[1] \"chlorides memiliki nilai p:  0.174533085456471 ->  BERDISTRIBUSI NORMAL\"\n",
      "[1] \"free.sulfur.dioxide memiliki nilai p:  0.0424727913162784 ->  TIDAK BERDISTRIBUSI NORMAL\"\n",
      "[1] \"total.sulfur.dioxide memiliki nilai p:  0.536674267379383 ->  BERDISTRIBUSI NORMAL\"\n",
      "[1] \"density memiliki nilai p:  0.853278136103308 ->  BERDISTRIBUSI NORMAL\"\n",
      "[1] \"pH memiliki nilai p:  0.137307648356189 ->  BERDISTRIBUSI NORMAL\"\n",
      "[1] \"sulphates memiliki nilai p:  0.112339293750436 ->  BERDISTRIBUSI NORMAL\"\n",
      "[1] \"alcohol memiliki nilai p:  0.519145108391523 ->  BERDISTRIBUSI NORMAL\"\n"
     ]
    }
   ],
   "source": [
    "for(i in 1:11) {\n",
    "  significance_level <- 0.05\n",
    "  test_result <- shapiro.test(data_anggur[, i])\n",
    "  p_value <- test_result$p.value\n",
    "  normality <- ifelse(p_value < significance_level, \"TIDAK BERDISTRIBUSI NORMAL\", \"BERDISTRIBUSI NORMAL\")\n",
    "  print(paste(colnames(data_anggur)[i], \"memiliki nilai p: \", p_value, \"-> \", normality))\n",
    "}"
   ]
  },
  {
   "cell_type": "markdown",
   "id": "c25b103f",
   "metadata": {},
   "source": [
    "### 4. Metode Tambahan (Nilai Skewness dan Kurtosis)"
   ]
  },
  {
   "cell_type": "markdown",
   "id": "7c3b206c",
   "metadata": {},
   "source": [
    "___\n",
    "## Soal No.4\n",
    "Melakukan test hipotesis 1 sampel,\n",
    "   1. Nilai rata-rata pH di atas 3.29?\n",
    "   2. Nilai rata-rata Residual Sugar tidak sama dengan 2.50?\n",
    "   3. Nilai rata-rata 150 baris pertama kolom sulphates bukan 0.65?\n",
    "   4. Nilai rata-rata total sulfur dioxide di bawah 35?\n",
    "   5. Proporsi nilai total Sulfat Dioxide yang lebih dari 40, adalah tidak sama dengan 50% ?"
   ]
  },
  {
   "cell_type": "code",
   "execution_count": null,
   "id": "f72c3425",
   "metadata": {},
   "outputs": [],
   "source": []
  },
  {
   "cell_type": "markdown",
   "id": "6c306903",
   "metadata": {},
   "source": [
    "___\n",
    "## Soal No.5\n",
    "Melakukan test hipotesis 2 sampel,\n",
    "   1. Data kolom fixed acidity dibagi 2 sama rata: bagian awal dan bagian akhir kolom. Benarkah rata-rata kedua bagian tersebut sama?\n",
    "   2. Data kolom chlorides dibagi 2 sama rata: bagian awal dan bagian akhir kolom. Benarkah rata-rata bagian awal lebih besar daripada bagian akhir sebesar 0.001?\n",
    "   3. Benarkah rata-rata sampel 25 baris pertama kolom Volatile Acidity sama dengan rata-rata 25 baris pertama kolom Sulphates ?\n",
    "   4. Bagian awal kolom residual sugar memiliki variansi yang sama dengan bagian akhirnya?\n",
    "   5. Proporsi nilai setengah bagian awal alcohol yang lebih dari 7, adalah lebih besar daripada, proporsi nilai yang sama di setengah bagian akhir alcohol?\n"
   ]
  },
  {
   "cell_type": "code",
   "execution_count": null,
   "id": "7c582cd9",
   "metadata": {},
   "outputs": [],
   "source": []
  }
 ],
 "metadata": {
  "kernelspec": {
   "display_name": "R",
   "language": "R",
   "name": "ir"
  },
  "language_info": {
   "codemirror_mode": "r",
   "file_extension": ".r",
   "mimetype": "text/x-r-source",
   "name": "R",
   "pygments_lexer": "r",
   "version": "4.2.3"
  }
 },
 "nbformat": 4,
 "nbformat_minor": 5
}
